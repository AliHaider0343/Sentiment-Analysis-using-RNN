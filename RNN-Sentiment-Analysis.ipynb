{
 "cells": [
  {
   "cell_type": "markdown",
   "id": "3e82528e",
   "metadata": {},
   "source": [
    "## SENTIMENT ANALYSIS USING RNN"
   ]
  },
  {
   "cell_type": "code",
   "execution_count": 123,
   "id": "606856cb",
   "metadata": {},
   "outputs": [],
   "source": [
    "import pandas as pd\n",
    "import numpy as np\n",
    "import tensorflow as tf\n",
    "from tensorflow.keras.preprocessing.sequence import pad_sequences"
   ]
  },
  {
   "cell_type": "code",
   "execution_count": 124,
   "id": "77358fe9",
   "metadata": {},
   "outputs": [],
   "source": [
    "(train_data,train_labels),(test_data,test_labels)=tf.keras.datasets.imdb.load_data(num_words=88584)"
   ]
  },
  {
   "cell_type": "code",
   "execution_count": 125,
   "id": "de3cfaff",
   "metadata": {},
   "outputs": [],
   "source": [
    "train_data=pad_sequences(train_data,256)\n",
    "test_data=pad_sequences(test_data,256)"
   ]
  },
  {
   "cell_type": "code",
   "execution_count": 126,
   "id": "462442a7",
   "metadata": {},
   "outputs": [
    {
     "data": {
      "text/plain": [
       "array([[    0,     0,     0, ...,    19,   178,    32],\n",
       "       [    0,     0,     0, ...,    16,   145,    95],\n",
       "       [    0,     0,     0, ...,     7,   129,   113],\n",
       "       ...,\n",
       "       [    0,     0,     0, ...,     4,  3586, 22459],\n",
       "       [    0,     0,     0, ...,    12,     9,    23],\n",
       "       [    0,     0,     0, ...,   204,   131,     9]])"
      ]
     },
     "execution_count": 126,
     "metadata": {},
     "output_type": "execute_result"
    }
   ],
   "source": [
    "train_data"
   ]
  },
  {
   "cell_type": "markdown",
   "id": "ba88d0d2",
   "metadata": {},
   "source": [
    "## MODEL ARCHITECTURE AND TRAINING"
   ]
  },
  {
   "cell_type": "code",
   "execution_count": 109,
   "id": "4d7fd749",
   "metadata": {},
   "outputs": [],
   "source": [
    "model = tf.keras.Sequential([\n",
    "    tf.keras.layers.Embedding(88584, output_dim=32),\n",
    "    tf.keras.layers.LSTM(32),\n",
    "    tf.keras.layers.Dense(1, activation='sigmoid')\n",
    "])\n"
   ]
  },
  {
   "cell_type": "code",
   "execution_count": 110,
   "id": "254eac76",
   "metadata": {},
   "outputs": [
    {
     "name": "stdout",
     "output_type": "stream",
     "text": [
      "Model: \"sequential_6\"\n",
      "_________________________________________________________________\n",
      " Layer (type)                Output Shape              Param #   \n",
      "=================================================================\n",
      " embedding_7 (Embedding)     (None, None, 32)          2834688   \n",
      "                                                                 \n",
      " lstm_7 (LSTM)               (None, 32)                8320      \n",
      "                                                                 \n",
      " dense_7 (Dense)             (None, 1)                 33        \n",
      "                                                                 \n",
      "=================================================================\n",
      "Total params: 2,843,041\n",
      "Trainable params: 2,843,041\n",
      "Non-trainable params: 0\n",
      "_________________________________________________________________\n"
     ]
    }
   ],
   "source": [
    "model.summary()"
   ]
  },
  {
   "cell_type": "code",
   "execution_count": 111,
   "id": "cfa7c2ff",
   "metadata": {},
   "outputs": [],
   "source": [
    "model.compile(optimizer='adam',loss='binary_crossentropy',metrics=['accuracy'])"
   ]
  },
  {
   "cell_type": "code",
   "execution_count": 112,
   "id": "9828824d",
   "metadata": {},
   "outputs": [
    {
     "name": "stdout",
     "output_type": "stream",
     "text": [
      "Epoch 1/10\n",
      "782/782 [==============================] - 65s 81ms/step - loss: 0.4182 - accuracy: 0.8061\n",
      "Epoch 2/10\n",
      "782/782 [==============================] - 61s 78ms/step - loss: 0.1828 - accuracy: 0.9329\n",
      "Epoch 3/10\n",
      "782/782 [==============================] - 60s 77ms/step - loss: 0.0945 - accuracy: 0.9703\n",
      "Epoch 4/10\n",
      "782/782 [==============================] - 60s 77ms/step - loss: 0.0661 - accuracy: 0.9793\n",
      "Epoch 5/10\n",
      "782/782 [==============================] - 61s 78ms/step - loss: 0.0401 - accuracy: 0.9879\n",
      "Epoch 6/10\n",
      "782/782 [==============================] - 61s 79ms/step - loss: 0.0489 - accuracy: 0.9836\n",
      "Epoch 7/10\n",
      "782/782 [==============================] - 62s 79ms/step - loss: 0.0263 - accuracy: 0.9917\n",
      "Epoch 8/10\n",
      "782/782 [==============================] - 61s 78ms/step - loss: 0.0195 - accuracy: 0.9941\n",
      "Epoch 9/10\n",
      "782/782 [==============================] - 62s 79ms/step - loss: 0.0190 - accuracy: 0.9941\n",
      "Epoch 10/10\n",
      "782/782 [==============================] - 65s 83ms/step - loss: 0.0224 - accuracy: 0.9935\n"
     ]
    },
    {
     "data": {
      "text/plain": [
       "<keras.callbacks.History at 0x1f69e6db100>"
      ]
     },
     "execution_count": 112,
     "metadata": {},
     "output_type": "execute_result"
    }
   ],
   "source": [
    "model.fit(train_data,train_labels,epochs=10)"
   ]
  },
  {
   "cell_type": "markdown",
   "id": "0a3b93b6",
   "metadata": {},
   "source": [
    "### EVALAUTION AND PREDICTION"
   ]
  },
  {
   "cell_type": "code",
   "execution_count": 113,
   "id": "d5452788",
   "metadata": {},
   "outputs": [
    {
     "name": "stdout",
     "output_type": "stream",
     "text": [
      "782/782 [==============================] - 11s 14ms/step - loss: 0.6642 - accuracy: 0.8309\n"
     ]
    },
    {
     "data": {
      "text/plain": [
       "[0.6641955375671387, 0.8309199810028076]"
      ]
     },
     "execution_count": 113,
     "metadata": {},
     "output_type": "execute_result"
    }
   ],
   "source": [
    "model.evaluate(test_data,test_labels)"
   ]
  },
  {
   "cell_type": "code",
   "execution_count": 62,
   "id": "bb2535f3",
   "metadata": {
    "scrolled": false
   },
   "outputs": [
    {
     "name": "stdout",
     "output_type": "stream",
     "text": [
      "Downloading data from https://storage.googleapis.com/tensorflow/tf-keras-datasets/imdb_word_index.json\n",
      "1641221/1641221 [==============================] - 1s 1us/step\n"
     ]
    }
   ],
   "source": [
    "word_index=tf.keras.datasets.imdb.get_word_index()"
   ]
  },
  {
   "cell_type": "code",
   "execution_count": 114,
   "id": "27b18ff4",
   "metadata": {},
   "outputs": [],
   "source": [
    "reverse_index={value:key for(key,value) in word_index.items()}"
   ]
  },
  {
   "cell_type": "code",
   "execution_count": 115,
   "id": "9747e27b",
   "metadata": {},
   "outputs": [
    {
     "name": "stdout",
     "output_type": "stream",
     "text": [
      "hello are\n"
     ]
    }
   ],
   "source": [
    "def encodeText(text):\n",
    "    tokens=tf.keras.preprocessing.text.text_to_word_sequence(text)\n",
    "    tokens=[word_index[word] if word in word_index else 0 for word in tokens ]\n",
    "    return pad_sequences([tokens],256)[0]\n",
    "\n",
    "def decode(integers):\n",
    "    PAD=0\n",
    "    text=\"\"\n",
    "    for number in integers:\n",
    "        if number!=PAD:\n",
    "            text+=reverse_index[number]+\" \"\n",
    "    return text[:-1]\n",
    "    tokens=tf.keras.preprocessing.text.text_to_word_sequence(text)\n",
    "    tokens=[word_index[word] if word in word_index else 0 for word in tokens ]\n",
    "    \n",
    "print(decode([4822,23]))"
   ]
  },
  {
   "cell_type": "code",
   "execution_count": 116,
   "id": "684d686b",
   "metadata": {},
   "outputs": [],
   "source": [
    "def predict(text):\n",
    "    ecodings=encodeText(text)\n",
    "    preds=np.zeros((1,256))\n",
    "    preds[0]=ecodings\n",
    "    return model.predict(preds)"
   ]
  },
  {
   "cell_type": "code",
   "execution_count": 122,
   "id": "d989013a",
   "metadata": {},
   "outputs": [
    {
     "name": "stdout",
     "output_type": "stream",
     "text": [
      "1/1 [==============================] - 0s 24ms/step\n"
     ]
    },
    {
     "data": {
      "text/plain": [
       "array([[0.23836346]], dtype=float32)"
      ]
     },
     "execution_count": 122,
     "metadata": {},
     "output_type": "execute_result"
    }
   ],
   "source": [
    "predict('disappointed')"
   ]
  }
 ],
 "metadata": {
  "kernelspec": {
   "display_name": "Python 3 (ipykernel)",
   "language": "python",
   "name": "python3"
  },
  "language_info": {
   "codemirror_mode": {
    "name": "ipython",
    "version": 3
   },
   "file_extension": ".py",
   "mimetype": "text/x-python",
   "name": "python",
   "nbconvert_exporter": "python",
   "pygments_lexer": "ipython3",
   "version": "3.9.12"
  }
 },
 "nbformat": 4,
 "nbformat_minor": 5
}
